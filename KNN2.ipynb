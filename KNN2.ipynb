{
 "cells": [
  {
   "cell_type": "code",
   "execution_count": 20,
   "metadata": {},
   "outputs": [
    {
     "data": {
      "image/png": "[encoded data removed]",
      "text/plain": [
       "<Figure size 432x288 with 1 Axes>"
      ]
     },
     "metadata": {
      "needs_background": "light"
     },
     "output_type": "display_data"
    },
    {
     "name": "stdout",
     "output_type": "stream",
     "text": [
      "k for max accuracy is 5\n"
     ]
    }
   ],
   "source": [
    "import numpy as np\n",
    "import matplotlib.pyplot as pt\n",
    "from collections import Counter\n",
    "import pandas as pd\n",
    "def knn(val_data,train,k=3):#val_data is a dictionary with 2 groups eaach containing several lists of x1,x2,etc\n",
    "    distances=[]\n",
    "    for group in val_data:\n",
    "        for features in val_data[group]:\n",
    "            distance=np.linalg.norm(np.array(features)-np.array(train))\n",
    "            distances.append([distance,group])\n",
    "    votes=[i[1] for i in sorted(distances)[:k]]\n",
    "    return Counter(votes).most_common(1)[0][0]\n",
    "df=pd.read_csv('Breast-Cancer.csv')\n",
    "df.replace('?',-9999,inplace=True)\n",
    "df.drop(['id'],axis=1,inplace=True)\n",
    "dataset=df.astype(float).values.tolist()\n",
    "dataset\n",
    "import random\n",
    "random.shuffle(dataset)\n",
    "train_size=0.8\n",
    "train_data=dataset[:(int)(train_size*len(dataset))]\n",
    "test_data=dataset[(int)(train_size*len(dataset)):]\n",
    "train_set={2:[],4:[]}\n",
    "test_set={2:[],4:[]}\n",
    "for lis in train_data:\n",
    "    train_set[lis[-1]].append(lis[:-1])\n",
    "for lis in test_data:\n",
    "    test_set[lis[-1]].append(lis[:-1])\n",
    "z=[i for i in range(1,100,2)]\n",
    "accuracy=[]\n",
    "total=len(test_data)\n",
    "for k in range(1,100,2):\n",
    "    count=0\n",
    "    for group in test_set:\n",
    "        for test in test_set[group]:\n",
    "            vote=knn(train_set,test,k)\n",
    "            if vote==group:\n",
    "                count+=1\n",
    "    accuracy.append(count/total)\n",
    "pt.xlabel('k')\n",
    "pt.ylabel('accuracy')\n",
    "pt.plot(z,accuracy)\n",
    "pt.show()\n",
    "print(\"k for max accuracy is %d\"%(z[accuracy.index(max(accuracy))]))"
   ]
  },
  {
   "cell_type": "code",
   "execution_count": null,
   "metadata": {},
   "outputs": [],
   "source": []
  }
 ],
 "metadata": {
  "kernelspec": {
   "display_name": "Python 3",
   "language": "python",
   "name": "python3"
  },
  "language_info": {
   "codemirror_mode": {
    "name": "ipython",
    "version": 3
   },
   "file_extension": ".py",
   "mimetype": "text/x-python",
   "name": "python",
   "nbconvert_exporter": "python",
   "pygments_lexer": "ipython3",
   "version": "3.5.6"
  }
 },
 "nbformat": 4,
 "nbformat_minor": 2
}
